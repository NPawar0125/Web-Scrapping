{
 "cells": [
  {
   "cell_type": "code",
   "execution_count": 1,
   "id": "ec4e60cd-fb7d-4d72-86cd-e630309b83ad",
   "metadata": {},
   "outputs": [],
   "source": [
    "import urllib"
   ]
  },
  {
   "cell_type": "code",
   "execution_count": 2,
   "id": "a67a07f2-9157-40fa-b663-016a7fc2f806",
   "metadata": {},
   "outputs": [],
   "source": [
    "from urllib.request import urlopen"
   ]
  },
  {
   "cell_type": "code",
   "execution_count": 27,
   "id": "a6f09244-d89b-4626-b492-621e3ab7fee9",
   "metadata": {},
   "outputs": [
    {
     "data": {
      "text/plain": [
       "<http.client.HTTPResponse at 0x2448a988d90>"
      ]
     },
     "execution_count": 27,
     "metadata": {},
     "output_type": "execute_result"
    }
   ],
   "source": [
    "data = urlopen('https://www.summet.com/dmsi/html/codesamples/simpleTable.html')\n",
    "data"
   ]
  },
  {
   "cell_type": "code",
   "execution_count": 28,
   "id": "8cd2310b-563d-4e3a-bd35-dce99cee6ae5",
   "metadata": {},
   "outputs": [
    {
     "data": {
      "text/plain": [
       "'<html><head>\\n            <title>Dewey Cheetum &amp; Howe, LLC</title>\\n            </head>\\n             <h1>The Law firm of Dewey, Cheetum, &amp; Howe, LCC</h1>\\n             <h2>Forclosure Sales Listing:</h2>\\n            <table border=1><tr><td>Address</td><td>City</td><td>State</td><td>Original Mortgage Amount</td><td>Bid Amount</td></tr>\\n<tr><td>967 Summit Avenue</td><td>Atlanta</td><td>GA</td><td>$383957</td><td>Not avaliable</td></tr>\\n<tr><td>800 Deadly Curves Dr.</td><td>Atlanta</td><td>GA</td><td>$380745</td><td>Not avaliable</td></tr>\\n<tr><td>255 Summit Avenue</td><td>Atlanta</td><td>GA</td><td>$100840</td><td>$44817.7777778</td></tr>\\n<tr><td>885 Cain Street</td><td>Atlanta</td><td>GA</td><td>$448045</td><td>$348479.444444</td></tr>\\n<tr><td>878 Ashby Street</td><td>Atlanta</td><td>GA</td><td>$164010</td><td>$91116.6666667</td></tr>\\n<tr><td>772 McDonough Boulevard</td><td>Atlanta</td><td>GA</td><td>$309132</td><td>Not avaliable</td></tr>\\n<tr><td>164 Stewart Avenue</td><td>Atlanta</td><td>GA</td><td>$444724</td><td>Not avaliable</td></tr>\\n<tr><td>239 Capitol Avenue</td><td>Atlanta</td><td>GA</td><td>$291100</td><td>Not avaliable</td></tr>\\n<tr><td>714 Peters Street</td><td>Atlanta</td><td>GA</td><td>$284642</td><td>Not avaliable</td></tr>\\n<tr><td>775 De Long Way</td><td>Atlanta</td><td>GA</td><td>$179520</td><td>Not avaliable</td></tr>\\n<tr><td>258 Windy Lane</td><td>Atlanta</td><td>GA</td><td>$231760</td><td>Not avaliable</td></tr>\\n<tr><td>159 Stewart Avenue</td><td>Atlanta</td><td>GA</td><td>$364357</td><td>Not avaliable</td></tr>\\n<tr><td>904 Summit Avenue</td><td>Atlanta</td><td>GA</td><td>$301802</td><td>$167667.777778</td></tr>\\n<tr><td>677 Yonge Street</td><td>Atlanta</td><td>GA</td><td>$187197</td><td>Not avaliable</td></tr>\\n<tr><td>557 North Collins Street</td><td>Atlanta</td><td>GA</td><td>$429656</td><td>Not avaliable</td></tr>\\n<tr><td>403 Peters Street</td><td>Atlanta</td><td>GA</td><td>$430000</td><td>Not avaliable</td></tr>\\n<tr><td>576 Sawmill Way</td><td>Atlanta</td><td>GA</td><td>$421216</td><td>Not avaliable</td></tr>\\n<tr><td>339 Chestnut Street</td><td>Atlanta</td><td>GA</td><td>$444065</td><td>Not avaliable</td></tr>\\n<tr><td>881 Ivy Street</td><td>Atlanta</td><td>GA</td><td>$109157</td><td>Not avaliable</td></tr>\\n<tr><td>277 North Collins Street</td><td>Atlanta</td><td>GA</td><td>$225595</td><td>Not avaliable</td></tr>\\n<tr><td>974 Cain Street</td><td>Atlanta</td><td>GA</td><td>$348816</td><td>$193786.666667</td></tr>\\n<tr><td>327 Sawmill Way</td><td>Atlanta</td><td>GA</td><td>$123451</td><td>Not avaliable</td></tr>\\n<tr><td>319 Hunter Street</td><td>Atlanta</td><td>GA</td><td>$368296</td><td>Not avaliable</td></tr>\\n<tr><td>760 Deadly Curves Dr.</td><td>Atlanta</td><td>GA</td><td>$465483</td><td>Not avaliable</td></tr>\\n<tr><td>199 Deadly Curves Dr.</td><td>Atlanta</td><td>GA</td><td>$199128</td><td>$88501.3333333</td></tr>\\n<tr><td>915 Cain Street</td><td>Atlanta</td><td>GA</td><td>$178550</td><td>$79355.5555556</td></tr>\\n<tr><td>810 Walker Street</td><td>Atlanta</td><td>GA</td><td>$121518</td><td>$94514.0</td></tr>\\n<tr><td>834 Hightower Road</td><td>Atlanta</td><td>GA</td><td>$134789</td><td>Not avaliable</td></tr>\\n</table></html>'"
      ]
     },
     "execution_count": 28,
     "metadata": {},
     "output_type": "execute_result"
    }
   ],
   "source": [
    "data_string = data.read().decode()\n",
    "data_string"
   ]
  },
  {
   "cell_type": "code",
   "execution_count": 29,
   "id": "bed65d51-fb0a-4aa8-a43f-119cce57240d",
   "metadata": {},
   "outputs": [
    {
     "data": {
      "text/plain": [
       "'  \\n             Dewey Cheetum &amp; Howe, LLC \\n             \\n              The Law firm of Dewey, Cheetum, &amp; Howe, LCC \\n              Forclosure Sales Listing: \\n               Address  City  State  Original Mortgage Amount  Bid Amount  \\n  967 Summit Avenue  Atlanta  GA  $383957  Not avaliable  \\n  800 Deadly Curves Dr.  Atlanta  GA  $380745  Not avaliable  \\n  255 Summit Avenue  Atlanta  GA  $100840  $44817.7777778  \\n  885 Cain Street  Atlanta  GA  $448045  $348479.444444  \\n  878 Ashby Street  Atlanta  GA  $164010  $91116.6666667  \\n  772 McDonough Boulevard  Atlanta  GA  $309132  Not avaliable  \\n  164 Stewart Avenue  Atlanta  GA  $444724  Not avaliable  \\n  239 Capitol Avenue  Atlanta  GA  $291100  Not avaliable  \\n  714 Peters Street  Atlanta  GA  $284642  Not avaliable  \\n  775 De Long Way  Atlanta  GA  $179520  Not avaliable  \\n  258 Windy Lane  Atlanta  GA  $231760  Not avaliable  \\n  159 Stewart Avenue  Atlanta  GA  $364357  Not avaliable  \\n  904 Summit Avenue  Atlanta  GA  $301802  $167667.777778  \\n  677 Yonge Street  Atlanta  GA  $187197  Not avaliable  \\n  557 North Collins Street  Atlanta  GA  $429656  Not avaliable  \\n  403 Peters Street  Atlanta  GA  $430000  Not avaliable  \\n  576 Sawmill Way  Atlanta  GA  $421216  Not avaliable  \\n  339 Chestnut Street  Atlanta  GA  $444065  Not avaliable  \\n  881 Ivy Street  Atlanta  GA  $109157  Not avaliable  \\n  277 North Collins Street  Atlanta  GA  $225595  Not avaliable  \\n  974 Cain Street  Atlanta  GA  $348816  $193786.666667  \\n  327 Sawmill Way  Atlanta  GA  $123451  Not avaliable  \\n  319 Hunter Street  Atlanta  GA  $368296  Not avaliable  \\n  760 Deadly Curves Dr.  Atlanta  GA  $465483  Not avaliable  \\n  199 Deadly Curves Dr.  Atlanta  GA  $199128  $88501.3333333  \\n  915 Cain Street  Atlanta  GA  $178550  $79355.5555556  \\n  810 Walker Street  Atlanta  GA  $121518  $94514.0  \\n  834 Hightower Road  Atlanta  GA  $134789  Not avaliable  \\n  '"
      ]
     },
     "execution_count": 29,
     "metadata": {},
     "output_type": "execute_result"
    }
   ],
   "source": [
    "import re\n",
    "data_clean = re.sub('<.*?>',' ',data_string.strip())\n",
    "data_clean"
   ]
  },
  {
   "cell_type": "code",
   "execution_count": 31,
   "id": "61850e9c-b60e-4ead-842c-2fdee3b9535a",
   "metadata": {},
   "outputs": [
    {
     "data": {
      "text/plain": [
       "['Dewey Cheetum &amp; Howe, LLC ,',\n",
       " '',\n",
       " '',\n",
       " '',\n",
       " '',\n",
       " '',\n",
       " ' ,',\n",
       " '',\n",
       " '',\n",
       " '',\n",
       " '',\n",
       " '',\n",
       " '',\n",
       " 'The Law firm of Dewey, Cheetum, &amp; Howe, LCC ,',\n",
       " '',\n",
       " '',\n",
       " '',\n",
       " '',\n",
       " '',\n",
       " '',\n",
       " 'Forclosure Sales Listing: ,',\n",
       " '',\n",
       " '',\n",
       " '',\n",
       " '',\n",
       " '',\n",
       " '',\n",
       " ' Address',\n",
       " 'City',\n",
       " 'State',\n",
       " 'Original Mortgage Amount',\n",
       " 'Bid Amount',\n",
       " ',',\n",
       " '967 Summit Avenue',\n",
       " 'Atlanta',\n",
       " 'GA',\n",
       " '$383957',\n",
       " 'Not avaliable',\n",
       " ',',\n",
       " '800 Deadly Curves Dr.',\n",
       " 'Atlanta',\n",
       " 'GA',\n",
       " '$380745',\n",
       " 'Not avaliable',\n",
       " ',',\n",
       " '255 Summit Avenue',\n",
       " 'Atlanta',\n",
       " 'GA',\n",
       " '$100840',\n",
       " '$44817.7777778',\n",
       " ',',\n",
       " '885 Cain Street',\n",
       " 'Atlanta',\n",
       " 'GA',\n",
       " '$448045',\n",
       " '$348479.444444',\n",
       " ',',\n",
       " '878 Ashby Street',\n",
       " 'Atlanta',\n",
       " 'GA',\n",
       " '$164010',\n",
       " '$91116.6666667',\n",
       " ',',\n",
       " '772 McDonough Boulevard',\n",
       " 'Atlanta',\n",
       " 'GA',\n",
       " '$309132',\n",
       " 'Not avaliable',\n",
       " ',',\n",
       " '164 Stewart Avenue',\n",
       " 'Atlanta',\n",
       " 'GA',\n",
       " '$444724',\n",
       " 'Not avaliable',\n",
       " ',',\n",
       " '239 Capitol Avenue',\n",
       " 'Atlanta',\n",
       " 'GA',\n",
       " '$291100',\n",
       " 'Not avaliable',\n",
       " ',',\n",
       " '714 Peters Street',\n",
       " 'Atlanta',\n",
       " 'GA',\n",
       " '$284642',\n",
       " 'Not avaliable',\n",
       " ',',\n",
       " '775 De Long Way',\n",
       " 'Atlanta',\n",
       " 'GA',\n",
       " '$179520',\n",
       " 'Not avaliable',\n",
       " ',',\n",
       " '258 Windy Lane',\n",
       " 'Atlanta',\n",
       " 'GA',\n",
       " '$231760',\n",
       " 'Not avaliable',\n",
       " ',',\n",
       " '159 Stewart Avenue',\n",
       " 'Atlanta',\n",
       " 'GA',\n",
       " '$364357',\n",
       " 'Not avaliable',\n",
       " ',',\n",
       " '904 Summit Avenue',\n",
       " 'Atlanta',\n",
       " 'GA',\n",
       " '$301802',\n",
       " '$167667.777778',\n",
       " ',',\n",
       " '677 Yonge Street',\n",
       " 'Atlanta',\n",
       " 'GA',\n",
       " '$187197',\n",
       " 'Not avaliable',\n",
       " ',',\n",
       " '557 North Collins Street',\n",
       " 'Atlanta',\n",
       " 'GA',\n",
       " '$429656',\n",
       " 'Not avaliable',\n",
       " ',',\n",
       " '403 Peters Street',\n",
       " 'Atlanta',\n",
       " 'GA',\n",
       " '$430000',\n",
       " 'Not avaliable',\n",
       " ',',\n",
       " '576 Sawmill Way',\n",
       " 'Atlanta',\n",
       " 'GA',\n",
       " '$421216',\n",
       " 'Not avaliable',\n",
       " ',',\n",
       " '339 Chestnut Street',\n",
       " 'Atlanta',\n",
       " 'GA',\n",
       " '$444065',\n",
       " 'Not avaliable',\n",
       " ',',\n",
       " '881 Ivy Street',\n",
       " 'Atlanta',\n",
       " 'GA',\n",
       " '$109157',\n",
       " 'Not avaliable',\n",
       " ',',\n",
       " '277 North Collins Street',\n",
       " 'Atlanta',\n",
       " 'GA',\n",
       " '$225595',\n",
       " 'Not avaliable',\n",
       " ',',\n",
       " '974 Cain Street',\n",
       " 'Atlanta',\n",
       " 'GA',\n",
       " '$348816',\n",
       " '$193786.666667',\n",
       " ',',\n",
       " '327 Sawmill Way',\n",
       " 'Atlanta',\n",
       " 'GA',\n",
       " '$123451',\n",
       " 'Not avaliable',\n",
       " ',',\n",
       " '319 Hunter Street',\n",
       " 'Atlanta',\n",
       " 'GA',\n",
       " '$368296',\n",
       " 'Not avaliable',\n",
       " ',',\n",
       " '760 Deadly Curves Dr.',\n",
       " 'Atlanta',\n",
       " 'GA',\n",
       " '$465483',\n",
       " 'Not avaliable',\n",
       " ',',\n",
       " '199 Deadly Curves Dr.',\n",
       " 'Atlanta',\n",
       " 'GA',\n",
       " '$199128',\n",
       " '$88501.3333333',\n",
       " ',',\n",
       " '915 Cain Street',\n",
       " 'Atlanta',\n",
       " 'GA',\n",
       " '$178550',\n",
       " '$79355.5555556',\n",
       " ',',\n",
       " '810 Walker Street',\n",
       " 'Atlanta',\n",
       " 'GA',\n",
       " '$121518',\n",
       " '$94514.0',\n",
       " ',',\n",
       " '834 Hightower Road',\n",
       " 'Atlanta',\n",
       " 'GA',\n",
       " '$134789',\n",
       " 'Not avaliable']"
      ]
     },
     "execution_count": 31,
     "metadata": {},
     "output_type": "execute_result"
    }
   ],
   "source": [
    "data = re.sub('\\n',',',data_clean.strip())\n",
    "data.split('  ')"
   ]
  },
  {
   "cell_type": "code",
   "execution_count": 69,
   "id": "b2c0be3a-c8ab-414a-8134-c008ea85c8e3",
   "metadata": {},
   "outputs": [
    {
     "name": "stdout",
     "output_type": "stream",
     "text": [
      "['967 Summit Avenue', '800 Deadly Curves Dr', '255 Summit Avenue', '885 Cain Street', '878 Ashby Street', '772 McDonough Boulevard', '164 Stewart Avenue', '239 Capitol Avenue', '714 Peters Street', '775 De Long Way', '258 Windy Lane', '159 Stewart Avenue', '904 Summit Avenue', '677 Yonge Street', '557 North Collins Street', '403 Peters Street', '576 Sawmill Way', '339 Chestnut Street', '881 Ivy Street', '277 North Collins Street', '974 Cain Street', '327 Sawmill Way', '319 Hunter Street', '760 Deadly Curves Dr', '199 Deadly Curves Dr', '915 Cain Street', '810 Walker Street', '834 Hightower Road'] 28\n"
     ]
    }
   ],
   "source": [
    "address=[]\n",
    "for i in data1:\n",
    "    a = re.findall(r'\\b\\d{3}[ ]\\w.+\\b',i)\n",
    "    if a:\n",
    "        address.extend(a)\n",
    "print(address,len(address))"
   ]
  },
  {
   "cell_type": "code",
   "execution_count": 68,
   "id": "9039685c-0dfe-4f78-8500-a178dfe104d7",
   "metadata": {},
   "outputs": [
    {
     "name": "stdout",
     "output_type": "stream",
     "text": [
      "['Atlanta', 'Atlanta', 'Atlanta', 'Atlanta', 'Atlanta', 'Atlanta', 'Atlanta', 'Atlanta', 'Atlanta', 'Atlanta', 'Atlanta', 'Atlanta', 'Atlanta', 'Atlanta', 'Atlanta', 'Atlanta', 'Atlanta', 'Atlanta', 'Atlanta', 'Atlanta', 'Atlanta', 'Atlanta', 'Atlanta', 'Atlanta', 'Atlanta', 'Atlanta', 'Atlanta', 'Atlanta'] 28\n"
     ]
    }
   ],
   "source": [
    "city=[]\n",
    "for i in data1:\n",
    "    a = re.findall(r'\\b[A][t][l][a][n][t][a]\\b',i)\n",
    "    if a:\n",
    "        city.extend(a)\n",
    "print(city,len(city))"
   ]
  },
  {
   "cell_type": "code",
   "execution_count": 72,
   "id": "bfc239ef-dfad-49e2-864d-bcd4a9444c2a",
   "metadata": {},
   "outputs": [
    {
     "name": "stdout",
     "output_type": "stream",
     "text": [
      "['$383957', '$380745', '$100840', '$448045', '$164010', '$309132', '$444724', '$291100', '$284642', '$179520', '$231760', '$364357', '$301802', '$187197', '$429656', '$430000', '$421216', '$444065', '$109157', '$225595', '$348816', '$123451', '$368296', '$465483', '$199128', '$178550', '$121518', '$134789'] 28\n"
     ]
    }
   ],
   "source": [
    "amount=[]\n",
    "for i in data1:\n",
    "    a = re.findall('[$]\\d{6}$',i)\n",
    "    if a:\n",
    "        amount.extend(a)\n",
    "print(amount,len(amount))"
   ]
  },
  {
   "cell_type": "code",
   "execution_count": 66,
   "id": "fe4a8af8-6f92-4ee5-b96c-1b4c1e38be95",
   "metadata": {},
   "outputs": [
    {
     "name": "stdout",
     "output_type": "stream",
     "text": [
      "['Not avaliable', 'Not avaliable', '$44817.7777778', '$348479.444444', '$91116.6666667', 'Not avaliable', 'Not avaliable', 'Not avaliable', 'Not avaliable', 'Not avaliable', 'Not avaliable', 'Not avaliable', '$167667.777778', 'Not avaliable', 'Not avaliable', 'Not avaliable', 'Not avaliable', 'Not avaliable', 'Not avaliable', 'Not avaliable', '$193786.666667', 'Not avaliable', 'Not avaliable', 'Not avaliable', '$88501.3333333', '$79355.5555556', '$94514.0', 'Not avaliable'] 28\n"
     ]
    }
   ],
   "source": [
    "bid_amount=[]\n",
    "for i in data1:\n",
    "    a = re.findall('[$]\\d+[.]\\d+|^[N]\\w+[ ]\\w+',i)\n",
    "    if a:\n",
    "        bid_amount.extend(a)\n",
    "print(bid_amount,len(bid_amount))"
   ]
  },
  {
   "cell_type": "code",
   "execution_count": 62,
   "id": "7d99d1a4-b3f5-45fd-bce6-155ef3d398f1",
   "metadata": {},
   "outputs": [],
   "source": [
    "import pandas as pd"
   ]
  },
  {
   "cell_type": "code",
   "execution_count": 86,
   "id": "7927bf6f-65e5-4bf8-a338-29971f3b555f",
   "metadata": {},
   "outputs": [],
   "source": [
    "final_data = {'Street Name ': address,'City':city,'Amount':amount,'Bid_Amount':bid_amount}\n",
    "dt = pd.DataFrame(final_data)\n",
    "# print(dt)\n",
    "dt.to_csv('Web_site3.csv')"
   ]
  },
  {
   "cell_type": "code",
   "execution_count": 90,
   "id": "1cdcbda4-e6fc-4758-aa6e-7a0a82921b79",
   "metadata": {},
   "outputs": [
    {
     "data": {
      "text/html": [
       "<div>\n",
       "<style scoped>\n",
       "    .dataframe tbody tr th:only-of-type {\n",
       "        vertical-align: middle;\n",
       "    }\n",
       "\n",
       "    .dataframe tbody tr th {\n",
       "        vertical-align: top;\n",
       "    }\n",
       "\n",
       "    .dataframe thead th {\n",
       "        text-align: right;\n",
       "    }\n",
       "</style>\n",
       "<table border=\"1\" class=\"dataframe\">\n",
       "  <thead>\n",
       "    <tr style=\"text-align: right;\">\n",
       "      <th></th>\n",
       "      <th>Street Name</th>\n",
       "      <th>City</th>\n",
       "      <th>Amount</th>\n",
       "      <th>Bid_Amount</th>\n",
       "    </tr>\n",
       "  </thead>\n",
       "  <tbody>\n",
       "    <tr>\n",
       "      <th>0</th>\n",
       "      <td>967 Summit Avenue</td>\n",
       "      <td>Atlanta</td>\n",
       "      <td>$383957</td>\n",
       "      <td>Not avaliable</td>\n",
       "    </tr>\n",
       "    <tr>\n",
       "      <th>1</th>\n",
       "      <td>800 Deadly Curves Dr</td>\n",
       "      <td>Atlanta</td>\n",
       "      <td>$380745</td>\n",
       "      <td>Not avaliable</td>\n",
       "    </tr>\n",
       "    <tr>\n",
       "      <th>2</th>\n",
       "      <td>255 Summit Avenue</td>\n",
       "      <td>Atlanta</td>\n",
       "      <td>$100840</td>\n",
       "      <td>$44817.7777778</td>\n",
       "    </tr>\n",
       "    <tr>\n",
       "      <th>3</th>\n",
       "      <td>885 Cain Street</td>\n",
       "      <td>Atlanta</td>\n",
       "      <td>$448045</td>\n",
       "      <td>$348479.444444</td>\n",
       "    </tr>\n",
       "    <tr>\n",
       "      <th>4</th>\n",
       "      <td>878 Ashby Street</td>\n",
       "      <td>Atlanta</td>\n",
       "      <td>$164010</td>\n",
       "      <td>$91116.6666667</td>\n",
       "    </tr>\n",
       "  </tbody>\n",
       "</table>\n",
       "</div>"
      ],
      "text/plain": [
       "           Street Name      City   Amount      Bid_Amount\n",
       "0     967 Summit Avenue  Atlanta  $383957   Not avaliable\n",
       "1  800 Deadly Curves Dr  Atlanta  $380745   Not avaliable\n",
       "2     255 Summit Avenue  Atlanta  $100840  $44817.7777778\n",
       "3       885 Cain Street  Atlanta  $448045  $348479.444444\n",
       "4      878 Ashby Street  Atlanta  $164010  $91116.6666667"
      ]
     },
     "execution_count": 90,
     "metadata": {},
     "output_type": "execute_result"
    }
   ],
   "source": [
    "dt = pd.DataFrame(final_data).head()\n",
    "dt"
   ]
  },
  {
   "cell_type": "code",
   "execution_count": 91,
   "id": "7ff8113d-e590-4f21-998f-5e3c1bbb8cea",
   "metadata": {},
   "outputs": [
    {
     "data": {
      "text/html": [
       "<div>\n",
       "<style scoped>\n",
       "    .dataframe tbody tr th:only-of-type {\n",
       "        vertical-align: middle;\n",
       "    }\n",
       "\n",
       "    .dataframe tbody tr th {\n",
       "        vertical-align: top;\n",
       "    }\n",
       "\n",
       "    .dataframe thead th {\n",
       "        text-align: right;\n",
       "    }\n",
       "</style>\n",
       "<table border=\"1\" class=\"dataframe\">\n",
       "  <thead>\n",
       "    <tr style=\"text-align: right;\">\n",
       "      <th></th>\n",
       "      <th>Street Name</th>\n",
       "      <th>City</th>\n",
       "      <th>Amount</th>\n",
       "      <th>Bid_Amount</th>\n",
       "    </tr>\n",
       "  </thead>\n",
       "  <tbody>\n",
       "    <tr>\n",
       "      <th>23</th>\n",
       "      <td>760 Deadly Curves Dr</td>\n",
       "      <td>Atlanta</td>\n",
       "      <td>$465483</td>\n",
       "      <td>Not avaliable</td>\n",
       "    </tr>\n",
       "    <tr>\n",
       "      <th>24</th>\n",
       "      <td>199 Deadly Curves Dr</td>\n",
       "      <td>Atlanta</td>\n",
       "      <td>$199128</td>\n",
       "      <td>$88501.3333333</td>\n",
       "    </tr>\n",
       "    <tr>\n",
       "      <th>25</th>\n",
       "      <td>915 Cain Street</td>\n",
       "      <td>Atlanta</td>\n",
       "      <td>$178550</td>\n",
       "      <td>$79355.5555556</td>\n",
       "    </tr>\n",
       "    <tr>\n",
       "      <th>26</th>\n",
       "      <td>810 Walker Street</td>\n",
       "      <td>Atlanta</td>\n",
       "      <td>$121518</td>\n",
       "      <td>$94514.0</td>\n",
       "    </tr>\n",
       "    <tr>\n",
       "      <th>27</th>\n",
       "      <td>834 Hightower Road</td>\n",
       "      <td>Atlanta</td>\n",
       "      <td>$134789</td>\n",
       "      <td>Not avaliable</td>\n",
       "    </tr>\n",
       "  </tbody>\n",
       "</table>\n",
       "</div>"
      ],
      "text/plain": [
       "            Street Name      City   Amount      Bid_Amount\n",
       "23  760 Deadly Curves Dr  Atlanta  $465483   Not avaliable\n",
       "24  199 Deadly Curves Dr  Atlanta  $199128  $88501.3333333\n",
       "25       915 Cain Street  Atlanta  $178550  $79355.5555556\n",
       "26     810 Walker Street  Atlanta  $121518        $94514.0\n",
       "27    834 Hightower Road  Atlanta  $134789   Not avaliable"
      ]
     },
     "execution_count": 91,
     "metadata": {},
     "output_type": "execute_result"
    }
   ],
   "source": [
    "dt = pd.DataFrame(final_data).tail()\n",
    "dt"
   ]
  },
  {
   "cell_type": "code",
   "execution_count": 107,
   "id": "29e64ad6-f1ea-4d2c-b1f6-1f0f0323c310",
   "metadata": {},
   "outputs": [],
   "source": [
    "address=[]\n",
    "city = []\n",
    "amount = []\n",
    "Bid_Amount = []\n",
    "for i,v in enumerate(data1):\n",
    "    if re.findall(r'\\b\\d{3}[ ]\\w.+\\b',v):\n",
    "        address.append(v)\n",
    "        city.append(data1[i+1])\n",
    "        amount.append(data1[i+3])\n",
    "        Bid_Amount.append(data1[i+4])\n",
    "        \n",
    "# df=pd.DataFrame([address,city,amount,bid_amount]).T.head()\n",
    "# df\n",
    "final_data = {'Street Name ': address,'City':city,'Amount':amount,'Bid_Amount':bid_amount}\n",
    "dt = pd.DataFrame(final_data)\n",
    "# print(dt)\n",
    "dt.to_csv('Web_site_3.csv')"
   ]
  },
  {
   "cell_type": "code",
   "execution_count": null,
   "id": "303e40cd-ce0a-4666-9ed4-8811111f01ae",
   "metadata": {},
   "outputs": [],
   "source": []
  }
 ],
 "metadata": {
  "kernelspec": {
   "display_name": "Python 3 (ipykernel)",
   "language": "python",
   "name": "python3"
  },
  "language_info": {
   "codemirror_mode": {
    "name": "ipython",
    "version": 3
   },
   "file_extension": ".py",
   "mimetype": "text/x-python",
   "name": "python",
   "nbconvert_exporter": "python",
   "pygments_lexer": "ipython3",
   "version": "3.10.7"
  }
 },
 "nbformat": 4,
 "nbformat_minor": 5
}
